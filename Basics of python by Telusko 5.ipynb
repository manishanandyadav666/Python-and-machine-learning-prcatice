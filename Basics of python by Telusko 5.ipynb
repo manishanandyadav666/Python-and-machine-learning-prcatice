{
 "cells": [
  {
   "cell_type": "code",
   "execution_count": 4,
   "metadata": {},
   "outputs": [
    {
     "name": "stdout",
     "output_type": "stream",
     "text": [
      "[ 6  7  8  9 10]\n"
     ]
    }
   ],
   "source": [
    "from numpy import *\n",
    "arr=array([1,2,3,4,5])\n",
    "for i in range(len(arr)):\n",
    "    arr[i]=arr[i]+5\n",
    "print(arr)"
   ]
  },
  {
   "cell_type": "code",
   "execution_count": 5,
   "metadata": {},
   "outputs": [
    {
     "name": "stdout",
     "output_type": "stream",
     "text": [
      "[ 6  7  8  9 10]\n"
     ]
    }
   ],
   "source": [
    "arr=array([1,2,3,4,5])\n",
    "arr=arr+5\n",
    "print(arr)"
   ]
  },
  {
   "cell_type": "markdown",
   "metadata": {},
   "source": [
    "### Vectorized Opertaions"
   ]
  },
  {
   "cell_type": "code",
   "execution_count": 6,
   "metadata": {},
   "outputs": [
    {
     "name": "stdout",
     "output_type": "stream",
     "text": [
      "[ 6  8 10 12]\n"
     ]
    }
   ],
   "source": [
    "arr1=array([1,2,3,4])\n",
    "arr2=array([5,6,7,8])\n",
    "arr=arr1+arr2\n",
    "print(arr)"
   ]
  },
  {
   "cell_type": "code",
   "execution_count": 8,
   "metadata": {},
   "outputs": [
    {
     "name": "stdout",
     "output_type": "stream",
     "text": [
      "[ 0.         -0.98803162  0.85090352 -0.30481062  0.89399666]\n",
      "[0.         5.47722558 6.70820393 7.74596669 9.48683298]\n",
      "[      -inf 3.40119738 3.80666249 4.09434456 4.49980967]\n"
     ]
    },
    {
     "name": "stderr",
     "output_type": "stream",
     "text": [
      "/snap/jupyter/6/lib/python3.7/site-packages/ipykernel_launcher.py:4: RuntimeWarning: divide by zero encountered in log\n",
      "  after removing the cwd from sys.path.\n"
     ]
    }
   ],
   "source": [
    "arr1=array([0,30,45,60,90])\n",
    "print(sin(arr1))\n",
    "print(sqrt(arr1))\n",
    "print(log(arr1))"
   ]
  },
  {
   "cell_type": "code",
   "execution_count": 10,
   "metadata": {},
   "outputs": [
    {
     "name": "stdout",
     "output_type": "stream",
     "text": [
      "225\n",
      "0\n",
      "90\n"
     ]
    }
   ],
   "source": [
    "print(sum(arr1))\n",
    "print(min(arr1))\n",
    "print(max(arr1))"
   ]
  },
  {
   "cell_type": "code",
   "execution_count": 12,
   "metadata": {},
   "outputs": [
    {
     "name": "stdout",
     "output_type": "stream",
     "text": [
      "[1 2 3 4]\n"
     ]
    }
   ],
   "source": [
    "arr1=array([1,2])\n",
    "arr2=array([3,4])\n",
    "arr=concatenate([arr1,arr2])\n",
    "print(arr)"
   ]
  },
  {
   "cell_type": "code",
   "execution_count": 14,
   "metadata": {},
   "outputs": [
    {
     "name": "stdout",
     "output_type": "stream",
     "text": [
      "[1 2 3]\n",
      "[1 2 3]\n",
      "140319650615904\n",
      "140319650615904\n"
     ]
    }
   ],
   "source": [
    "# Aliasing\n",
    "arr1=array([1,2,3])\n",
    "arr2=arr1\n",
    "print(arr1)\n",
    "print(arr2)\n",
    "print(id(arr1))\n",
    "print(id(arr2))"
   ]
  },
  {
   "cell_type": "code",
   "execution_count": 18,
   "metadata": {},
   "outputs": [
    {
     "name": "stdout",
     "output_type": "stream",
     "text": [
      "[1 3 3]\n",
      "[1 3 3]\n",
      "140319650616864\n",
      "140319650617264\n"
     ]
    }
   ],
   "source": [
    "# Shallow copy\n",
    "arr1=array([1,2,3])\n",
    "arr2=arr1.view()\n",
    "arr1[1]=3\n",
    "print(arr1)\n",
    "print(arr2)\n",
    "print(id(arr1))\n",
    "print(id(arr2))\n"
   ]
  },
  {
   "cell_type": "code",
   "execution_count": 19,
   "metadata": {},
   "outputs": [
    {
     "name": "stdout",
     "output_type": "stream",
     "text": [
      "[1 3 3]\n",
      "[1 2 3]\n",
      "140319650616624\n",
      "140319650617744\n"
     ]
    }
   ],
   "source": [
    "# Deep copy\n",
    "arr1=array([1,2,3])\n",
    "arr2=arr1.copy()\n",
    "arr1[1]=3\n",
    "print(arr1)\n",
    "print(arr2)\n",
    "print(id(arr1))\n",
    "print(id(arr2))"
   ]
  },
  {
   "cell_type": "code",
   "execution_count": 29,
   "metadata": {},
   "outputs": [
    {
     "name": "stdout",
     "output_type": "stream",
     "text": [
      "[[1 2 3]\n",
      " [4 5 6]\n",
      " [7 8 9]]\n",
      "int64\n",
      "2\n",
      "(3, 3)\n",
      "9\n",
      "[1 2 3 4 5 6 7 8 9]\n",
      "[[1 2 3]\n",
      " [4 5 6]\n",
      " [7 8 9]]\n"
     ]
    }
   ],
   "source": [
    "# Playing with array\n",
    "arr1=array([\n",
    "    [1,2,3],\n",
    "    [4,5,6],\n",
    "    [7,8,9]\n",
    "         ])\n",
    "print(arr1)\n",
    "print(arr1.dtype)\n",
    "print(arr1.ndim)\n",
    "print(arr1.shape)\n",
    "print(arr1.size)\n",
    "arr2=arr1.flatten()\n",
    "print(arr2)\n",
    "arr3=arr2.reshape(3,3)\n",
    "print(arr3)"
   ]
  },
  {
   "cell_type": "code",
   "execution_count": 30,
   "metadata": {},
   "outputs": [
    {
     "name": "stdout",
     "output_type": "stream",
     "text": [
      "[[[ 1  2  3]\n",
      "  [ 4  5  6]]\n",
      "\n",
      " [[ 7  8  9]\n",
      "  [10 11 12]]]\n"
     ]
    }
   ],
   "source": [
    "arr1=array([\n",
    "    [1,2,3,4,5,6],\n",
    "    [7,8,9,10,11,12]\n",
    "])\n",
    "arr2=arr1.reshape(2,2,3)\n",
    "print(arr2)"
   ]
  },
  {
   "cell_type": "code",
   "execution_count": 37,
   "metadata": {},
   "outputs": [
    {
     "name": "stdout",
     "output_type": "stream",
     "text": [
      "[1 5 9]\n",
      "1\n",
      "9\n"
     ]
    }
   ],
   "source": [
    "m=matrix('1 2 3; 4 5 6 ;7 8 9')\n",
    "print(diagonal(m))\n",
    "print(m.min())\n",
    "print(m.max())"
   ]
  },
  {
   "cell_type": "code",
   "execution_count": 40,
   "metadata": {},
   "outputs": [
    {
     "name": "stdout",
     "output_type": "stream",
     "text": [
      "[[1 2 3]\n",
      " [4 5 6]\n",
      " [7 8 9]]\n",
      "[[1 1 3]\n",
      " [4 5 5]\n",
      " [9 8 9]]\n",
      "[[ 2  3  6]\n",
      " [ 8 10 11]\n",
      " [16 16 18]]\n",
      "[[ 36  35  40]\n",
      " [ 78  77  91]\n",
      " [120 119 142]]\n"
     ]
    }
   ],
   "source": [
    "# Multiplication of matrices\n",
    "m1= matrix('1 2 3; 4 5 6 ;7 8 9')\n",
    "m2= matrix('1 1 3; 4 5 5 ;9 8 9')\n",
    "print(m1)\n",
    "print(m2)\n",
    "m3=m1+m2\n",
    "m4=m1*m2\n",
    "print(m3)\n",
    "print(m4)"
   ]
  },
  {
   "cell_type": "markdown",
   "metadata": {},
   "source": [
    "### Functions in python"
   ]
  },
  {
   "cell_type": "code",
   "execution_count": 1,
   "metadata": {},
   "outputs": [
    {
     "name": "stdout",
     "output_type": "stream",
     "text": [
      "hello\n",
      "Good Morning\n"
     ]
    }
   ],
   "source": [
    "def greet():\n",
    "    print('hello')\n",
    "    print(\"Good Morning\")\n",
    "greet()"
   ]
  },
  {
   "cell_type": "code",
   "execution_count": 2,
   "metadata": {},
   "outputs": [
    {
     "name": "stdout",
     "output_type": "stream",
     "text": [
      "9\n"
     ]
    }
   ],
   "source": [
    "def add(a,b):\n",
    "    return a+b\n",
    "c=add(4,5)\n",
    "print(c)"
   ]
  },
  {
   "cell_type": "code",
   "execution_count": 4,
   "metadata": {},
   "outputs": [
    {
     "name": "stdout",
     "output_type": "stream",
     "text": [
      "8 4\n"
     ]
    }
   ],
   "source": [
    "def add_sub(a,b):\n",
    "    c=a+b\n",
    "    d=a-b\n",
    "    return c,d\n",
    "result1, result2=add_sub(6,2)\n",
    "print(result1, result2)"
   ]
  },
  {
   "cell_type": "code",
   "execution_count": null,
   "metadata": {},
   "outputs": [],
   "source": []
  }
 ],
 "metadata": {
  "kernelspec": {
   "display_name": "Python 3",
   "language": "python",
   "name": "python3"
  },
  "language_info": {
   "codemirror_mode": {
    "name": "ipython",
    "version": 3
   },
   "file_extension": ".py",
   "mimetype": "text/x-python",
   "name": "python",
   "nbconvert_exporter": "python",
   "pygments_lexer": "ipython3",
   "version": "3.7.3"
  }
 },
 "nbformat": 4,
 "nbformat_minor": 2
}
