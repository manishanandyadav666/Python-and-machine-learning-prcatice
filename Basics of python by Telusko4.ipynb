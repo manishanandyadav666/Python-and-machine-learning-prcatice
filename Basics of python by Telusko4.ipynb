{
 "cells": [
  {
   "cell_type": "markdown",
   "metadata": {},
   "source": [
    "## Array"
   ]
  },
  {
   "cell_type": "markdown",
   "metadata": {},
   "source": [
    "### In array, we need to have all the values of same type"
   ]
  },
  {
   "cell_type": "code",
   "execution_count": 4,
   "metadata": {},
   "outputs": [],
   "source": [
    "from array import *\n",
    "vals=array('i',[5,6,7])\n"
   ]
  },
  {
   "cell_type": "code",
   "execution_count": 5,
   "metadata": {},
   "outputs": [
    {
     "name": "stdout",
     "output_type": "stream",
     "text": [
      "array('i', [5, 6, 7])\n"
     ]
    }
   ],
   "source": [
    "print(vals)"
   ]
  },
  {
   "cell_type": "code",
   "execution_count": 7,
   "metadata": {},
   "outputs": [
    {
     "name": "stdout",
     "output_type": "stream",
     "text": [
      "(139958047318464, 3)\n"
     ]
    }
   ],
   "source": [
    "print(vals.buffer_info())"
   ]
  },
  {
   "cell_type": "code",
   "execution_count": 9,
   "metadata": {},
   "outputs": [
    {
     "name": "stdout",
     "output_type": "stream",
     "text": [
      "i\n"
     ]
    }
   ],
   "source": [
    "print(vals.typecode)"
   ]
  },
  {
   "cell_type": "code",
   "execution_count": 11,
   "metadata": {},
   "outputs": [
    {
     "name": "stdout",
     "output_type": "stream",
     "text": [
      "array('i', [5, 6, 7])\n"
     ]
    }
   ],
   "source": [
    "vals.reverse()\n",
    "print(vals)"
   ]
  },
  {
   "cell_type": "code",
   "execution_count": 12,
   "metadata": {},
   "outputs": [
    {
     "name": "stdout",
     "output_type": "stream",
     "text": [
      "array('i', [7, 6, 5])\n"
     ]
    }
   ],
   "source": [
    "vals=array('i',[5,6,7])\n",
    "vals.reverse()\n",
    "print(vals)"
   ]
  },
  {
   "cell_type": "code",
   "execution_count": 13,
   "metadata": {},
   "outputs": [
    {
     "name": "stdout",
     "output_type": "stream",
     "text": [
      "7\n"
     ]
    }
   ],
   "source": [
    "print(vals[0])"
   ]
  },
  {
   "cell_type": "code",
   "execution_count": 17,
   "metadata": {},
   "outputs": [
    {
     "name": "stdout",
     "output_type": "stream",
     "text": [
      "7\n",
      "6\n",
      "5\n"
     ]
    }
   ],
   "source": [
    "for i in range(len(vals)):\n",
    "    print(vals[i])"
   ]
  },
  {
   "cell_type": "code",
   "execution_count": 18,
   "metadata": {},
   "outputs": [
    {
     "name": "stdout",
     "output_type": "stream",
     "text": [
      "7\n",
      "6\n",
      "5\n"
     ]
    }
   ],
   "source": [
    "for e in vals:\n",
    "    print(e)"
   ]
  },
  {
   "cell_type": "code",
   "execution_count": 26,
   "metadata": {},
   "outputs": [
    {
     "name": "stdout",
     "output_type": "stream",
     "text": [
      "array('i', [343, 216, 125])\n",
      "3\n"
     ]
    }
   ],
   "source": [
    "newarr=array(vals.typecode, (a*a*a for a in vals))\n",
    "print(newarr)\n",
    "print(len(newarr))"
   ]
  },
  {
   "cell_type": "code",
   "execution_count": 25,
   "metadata": {},
   "outputs": [
    {
     "name": "stdout",
     "output_type": "stream",
     "text": [
      "343\n",
      "216\n",
      "125\n"
     ]
    }
   ],
   "source": [
    "i=0\n",
    "while i<len(newarr):\n",
    "    print(newarr[i])\n",
    "    i=i+1"
   ]
  },
  {
   "cell_type": "code",
   "execution_count": 33,
   "metadata": {},
   "outputs": [
    {
     "name": "stdout",
     "output_type": "stream",
     "text": [
      "Enter the length of array4\n",
      "Enter the next value12\n",
      "Enter the next value13\n",
      "Enter the next value14\n",
      "Enter the next value15\n",
      "array('i', [12, 13, 14, 15])\n"
     ]
    }
   ],
   "source": [
    "arr=array('i',[])\n",
    "n=int(input('Enter the length of array'))\n",
    "for i in range(n):\n",
    "    x=int(input('Enter the next value'))\n",
    "    arr.append(x)\n",
    "print(arr)"
   ]
  },
  {
   "cell_type": "code",
   "execution_count": 37,
   "metadata": {},
   "outputs": [
    {
     "name": "stdout",
     "output_type": "stream",
     "text": [
      "Enter the value to be checked12\n",
      "0\n",
      "0\n"
     ]
    }
   ],
   "source": [
    "k=0\n",
    "val=int(input('Enter the value to be checked'))\n",
    "for e in arr:\n",
    "    if val==e:\n",
    "        print(k)\n",
    "        break\n",
    "    k+=1\n",
    "        \n",
    "print(arr.index(val))  "
   ]
  },
  {
   "cell_type": "code",
   "execution_count": 40,
   "metadata": {},
   "outputs": [
    {
     "name": "stdout",
     "output_type": "stream",
     "text": [
      "[1 2]\n"
     ]
    }
   ],
   "source": [
    "from numpy import *\n",
    "arr=array([1,2])\n",
    "print(arr)"
   ]
  },
  {
   "cell_type": "markdown",
   "metadata": {},
   "source": [
    "### Ways of creating arrays in numpy"
   ]
  },
  {
   "cell_type": "code",
   "execution_count": 43,
   "metadata": {},
   "outputs": [
    {
     "name": "stdout",
     "output_type": "stream",
     "text": [
      "[1.  2.  3.  4.2 5. ]\n",
      "float64\n"
     ]
    }
   ],
   "source": [
    "from numpy import *\n",
    "arr=array([1,2,3,4.2,5])\n",
    "print(arr)\n",
    "print(arr.dtype)"
   ]
  },
  {
   "cell_type": "code",
   "execution_count": 45,
   "metadata": {},
   "outputs": [
    {
     "name": "stdout",
     "output_type": "stream",
     "text": [
      "[ 0.  1.  2.  3.  4.  5.  6.  7.  8.  9. 10. 11. 12. 13. 14. 15. 16. 17.\n",
      " 18. 19. 20.]\n"
     ]
    }
   ],
   "source": [
    "# It will divide into 21 parts\n",
    "arr=linspace(0,20,21)\n",
    "print(arr)"
   ]
  },
  {
   "cell_type": "code",
   "execution_count": 46,
   "metadata": {},
   "outputs": [
    {
     "name": "stdout",
     "output_type": "stream",
     "text": [
      "[ 0.          0.40816327  0.81632653  1.2244898   1.63265306  2.04081633\n",
      "  2.44897959  2.85714286  3.26530612  3.67346939  4.08163265  4.48979592\n",
      "  4.89795918  5.30612245  5.71428571  6.12244898  6.53061224  6.93877551\n",
      "  7.34693878  7.75510204  8.16326531  8.57142857  8.97959184  9.3877551\n",
      "  9.79591837 10.20408163 10.6122449  11.02040816 11.42857143 11.83673469\n",
      " 12.24489796 12.65306122 13.06122449 13.46938776 13.87755102 14.28571429\n",
      " 14.69387755 15.10204082 15.51020408 15.91836735 16.32653061 16.73469388\n",
      " 17.14285714 17.55102041 17.95918367 18.36734694 18.7755102  19.18367347\n",
      " 19.59183673 20.        ]\n"
     ]
    }
   ],
   "source": [
    "arr=linspace(0,20)\n",
    "print(arr)"
   ]
  },
  {
   "cell_type": "code",
   "execution_count": 47,
   "metadata": {},
   "outputs": [
    {
     "name": "stdout",
     "output_type": "stream",
     "text": [
      "[ 1  3  5  7  9 11 13 15 17 19]\n"
     ]
    }
   ],
   "source": [
    "# The last argument is step\n",
    "arr=arange(1,20,2)\n",
    "print(arr)"
   ]
  },
  {
   "cell_type": "code",
   "execution_count": 48,
   "metadata": {},
   "outputs": [
    {
     "name": "stdout",
     "output_type": "stream",
     "text": [
      "[1.00000000e+01 5.62341325e+10 3.16227766e+20 1.77827941e+30\n",
      " 1.00000000e+40]\n"
     ]
    }
   ],
   "source": [
    "arr=logspace(1,40,5)\n",
    "print(arr)"
   ]
  },
  {
   "cell_type": "code",
   "execution_count": 51,
   "metadata": {},
   "outputs": [
    {
     "name": "stdout",
     "output_type": "stream",
     "text": [
      "[0. 0. 0. 0. 0. 0.]\n",
      "[1. 1. 1. 1. 1.]\n",
      "[1 1 1 1 1]\n"
     ]
    }
   ],
   "source": [
    "arr=zeros(6)\n",
    "arr1=ones(5)\n",
    "arr2=ones(5,int)\n",
    "print(arr)\n",
    "print(arr1)\n",
    "print(arr2)"
   ]
  },
  {
   "cell_type": "code",
   "execution_count": null,
   "metadata": {},
   "outputs": [],
   "source": []
  }
 ],
 "metadata": {
  "kernelspec": {
   "display_name": "Python 3",
   "language": "python",
   "name": "python3"
  },
  "language_info": {
   "codemirror_mode": {
    "name": "ipython",
    "version": 3
   },
   "file_extension": ".py",
   "mimetype": "text/x-python",
   "name": "python",
   "nbconvert_exporter": "python",
   "pygments_lexer": "ipython3",
   "version": "3.7.3"
  }
 },
 "nbformat": 4,
 "nbformat_minor": 2
}
