{
 "cells": [
  {
   "cell_type": "markdown",
   "metadata": {},
   "source": [
    "## Variable, loop and fucntion"
   ]
  },
  {
   "cell_type": "markdown",
   "metadata": {},
   "source": [
    "### Demo of variables and its types"
   ]
  },
  {
   "cell_type": "code",
   "execution_count": 15,
   "metadata": {},
   "outputs": [
    {
     "name": "stdout",
     "output_type": "stream",
     "text": [
      "('a', 'b')\n",
      "<class 'tuple'>\n",
      "a\n",
      "b\n"
     ]
    }
   ],
   "source": [
    "q='a','b'\n",
    "print(q)\n",
    "print(type(q))\n",
    "for i in q:\n",
    "    print(i)"
   ]
  },
  {
   "cell_type": "markdown",
   "metadata": {},
   "source": [
    "### Demo for a for loop"
   ]
  },
  {
   "cell_type": "code",
   "execution_count": 13,
   "metadata": {},
   "outputs": [
    {
     "name": "stdout",
     "output_type": "stream",
     "text": [
      "[[0, 0, 0], [0, 0, 0], [0, 0, 0]]\n",
      "[0, 0, 0]\n",
      "[0, 0, 0]\n",
      "[0, 0, 0]\n"
     ]
    }
   ],
   "source": [
    "game=[[0,0,0],\n",
    "      [0,0,0],\n",
    "      [0,0,0],\n",
    "     ]\n",
    "print(game)\n",
    "type(game)\n",
    "for i in game:\n",
    "    print(i)"
   ]
  },
  {
   "cell_type": "markdown",
   "metadata": {},
   "source": [
    "### Seeing the use of enumerate function"
   ]
  },
  {
   "cell_type": "code",
   "execution_count": 31,
   "metadata": {},
   "outputs": [
    {
     "name": "stdout",
     "output_type": "stream",
     "text": [
      "   0  1  2\n",
      "0 [0, 0, 0]\n",
      "1 [0, 0, 0]\n",
      "2 [0, 0, 0]\n"
     ]
    }
   ],
   "source": [
    "\n",
    "game=[[0,0,0],\n",
    "      [0,0,0],\n",
    "      [0,0,0],\n",
    "     ]\n",
    "#count=0\n",
    "print(\"   0  1  2\")\n",
    "\n",
    "for count,i in enumerate(game):\n",
    "    print(count,i)\n",
    "    "
   ]
  },
  {
   "cell_type": "code",
   "execution_count": 16,
   "metadata": {},
   "outputs": [
    {
     "name": "stdout",
     "output_type": "stream",
     "text": [
      "   0  1  2\n",
      "10\n",
      "11\n",
      "12\n",
      "13\n",
      "14\n",
      "15\n",
      "16\n",
      "17\n",
      "18\n",
      "19\n"
     ]
    }
   ],
   "source": [
    "### Just displaying the elements in a two-dimensional list\n",
    "game=[[10,11,12],\n",
    "      [13,14,15],\n",
    "      [16,17,18,19],\n",
    "     ]\n",
    "#count=0\n",
    "print(\"   0  1  2\")\n",
    "\n",
    "for i in game:\n",
    "    for j in i:\n",
    "        print(j)\n",
    "        #print(\"next \")"
   ]
  },
  {
   "cell_type": "code",
   "execution_count": 45,
   "metadata": {},
   "outputs": [
    {
     "name": "stdout",
     "output_type": "stream",
     "text": [
      "   0  1  2\n",
      "0 [0, 0, 0]\n",
      "1 [0, 0, 0]\n",
      "2 [0, 0, 0]\n",
      "   0  1  2\n",
      "0 [0, 0, 1]\n",
      "1 [0, 0, 0]\n",
      "2 [0, 0, 0]\n"
     ]
    }
   ],
   "source": [
    "### The simple use of a function\n",
    "game=[[0,0,0],\n",
    "      [0,0,0],\n",
    "      [0,0,0],\n",
    "     ]\n",
    "def game_board():\n",
    "    print(\"   0  1  2\")\n",
    "    for count,row in enumerate(game):\n",
    "        print(count,row)\n",
    "game_board()\n",
    "game[0][2]=1\n",
    "game_board()"
   ]
  },
  {
   "cell_type": "code",
   "execution_count": 17,
   "metadata": {},
   "outputs": [
    {
     "data": {
      "text/plain": [
       "'hey there'"
      ]
     },
     "execution_count": 17,
     "metadata": {},
     "output_type": "execute_result"
    }
   ],
   "source": [
    "### A simple function\n",
    "def addition(x,y):\n",
    "    return x+y\n",
    "addition('hey',' there')    "
   ]
  },
  {
   "cell_type": "code",
   "execution_count": 60,
   "metadata": {},
   "outputs": [
    {
     "name": "stdout",
     "output_type": "stream",
     "text": [
      "   0  1  2\n",
      "0 [0, 0, 0]\n",
      "1 [0, 0, 0]\n",
      "2 [0, 0, 0]\n",
      "   0  1  2\n",
      "0 [0, 0, 0]\n",
      "1 [0, 2, 0]\n",
      "2 [0, 0, 0]\n"
     ]
    }
   ],
   "source": [
    "### Modifying the list by using a function\n",
    "game=[[0,0,0],\n",
    "      [0,0,0],\n",
    "      [0,0,0],\n",
    "     ]\n",
    "def game_board(player=0,row=0,column=0,just_display=False):\n",
    "    print(\"   0  1  2\")\n",
    "    if not just_display:\n",
    "        game[row][column]=player\n",
    "    for count,row in enumerate(game):\n",
    "        print(count,row)\n",
    "game_board()\n",
    "game_board(row=1,column=1,player=2)"
   ]
  },
  {
   "cell_type": "code",
   "execution_count": 3,
   "metadata": {},
   "outputs": [
    {
     "name": "stdout",
     "output_type": "stream",
     "text": [
      "92787304\n",
      "[1, 2, 999]\n",
      "[1, 2, 999]\n",
      "92787304\n"
     ]
    }
   ],
   "source": [
    "## Seeing the mutability of list\n",
    "game=[1,2,3]\n",
    "print(id(game))\n",
    "def game_board(player=0,row=0,column=0,just_display=False):\n",
    "    game[2]=999\n",
    "    print(game)\n",
    "    \n",
    "game_board()\n",
    "print(game)\n",
    "print(id(game))"
   ]
  },
  {
   "cell_type": "markdown",
   "metadata": {},
   "source": [
    "## Making a tic tac toe game"
   ]
  },
  {
   "cell_type": "code",
   "execution_count": 8,
   "metadata": {},
   "outputs": [
    {
     "name": "stdout",
     "output_type": "stream",
     "text": [
      "   0  1  2\n",
      "0 [0, 0, 0]\n",
      "1 [0, 0, 0]\n",
      "2 [0, 0, 0]\n"
     ]
    },
    {
     "data": {
      "text/plain": [
       "[[0, 0, 0], [0, 0, 0], [0, 0, 0]]"
      ]
     },
     "execution_count": 8,
     "metadata": {},
     "output_type": "execute_result"
    }
   ],
   "source": [
    "## Seeing the prerequisite for making a simple game\n",
    "game=[[0,0,0],\n",
    "      [0,0,0],\n",
    "      [0,0,0],\n",
    "     ]\n",
    "def game_board(game_map,player=0,row=0,column=0,just_display=False):\n",
    "    print(\"   0  1  2\")\n",
    "    if not just_display:\n",
    "        game_map[row][column]=player\n",
    "    for count,row in enumerate(game):\n",
    "        print(count,row)\n",
    "    return game_map\n",
    "\n",
    "\n",
    "game_board(game)\n"
   ]
  },
  {
   "cell_type": "markdown",
   "metadata": {},
   "source": [
    "## Horizontal win"
   ]
  },
  {
   "cell_type": "code",
   "execution_count": 16,
   "metadata": {},
   "outputs": [
    {
     "name": "stdout",
     "output_type": "stream",
     "text": [
      "[0, 0, 0]\n",
      "[1, 1, 1]\n",
      "Winner!\n",
      "[0, 0, 0]\n"
     ]
    }
   ],
   "source": [
    "### Predicting win if a row has all the elments same except zero\n",
    "game=[[0,0,0],\n",
    "      [1,1,1],\n",
    "      [0,0,0],\n",
    "     ]\n",
    "col=[]\n",
    "def win_game():\n",
    "    for row in game:\n",
    "        #col[i]=row[i]\n",
    "        #col[1]=row[1]\n",
    "        #col[2]=row[2]\n",
    "        print(row)\n",
    "        if row.count(row[0])==len(row) and row[0]!=0:\n",
    "            print('Winner!')\n",
    "            \n",
    "win_game()"
   ]
  },
  {
   "cell_type": "markdown",
   "metadata": {},
   "source": [
    "## Vertical win"
   ]
  },
  {
   "cell_type": "code",
   "execution_count": null,
   "metadata": {},
   "outputs": [],
   "source": []
  },
  {
   "cell_type": "code",
   "execution_count": 36,
   "metadata": {},
   "outputs": [
    {
     "name": "stdout",
     "output_type": "stream",
     "text": [
      "[2]\n",
      "[2, 0]\n",
      "[2, 0, 2]\n",
      "[0]\n",
      "[0, 1]\n",
      "[0, 1, 0]\n",
      "[1]\n",
      "[1, 1]\n",
      "[1, 1, 1]\n",
      "Winner!\n"
     ]
    }
   ],
   "source": [
    "### Predicting a win by checking the similarity of elements column-wise\n",
    "game=[[2,0,1],\n",
    "      [0,1,1],\n",
    "      [2,0,1]\n",
    "     ]\n",
    "def win_game():\n",
    "    for col in range(len(game)):\n",
    "        check=[]\n",
    "        for row in game:\n",
    "            check.append(row[col])\n",
    "            print(check)\n",
    "        if check.count(check[0])==len(check) and check[0]!=0:\n",
    "            print('Winner!')\n",
    "win_game()"
   ]
  },
  {
   "cell_type": "markdown",
   "metadata": {},
   "source": [
    "## Diagonal win"
   ]
  },
  {
   "cell_type": "code",
   "execution_count": 52,
   "metadata": {},
   "outputs": [
    {
     "name": "stdout",
     "output_type": "stream",
     "text": [
      "[1, 1, 1]\n"
     ]
    }
   ],
   "source": [
    "## Prediction win if all the diagonal elements are same\n",
    "game=[[1,0,1],\n",
    "      [0,1,1],\n",
    "      [2,0,1]\n",
    "     ]\n",
    "col=[]\n",
    "def win_game():\n",
    "    for ix in range(len(game)):\n",
    "        col.append(game[ix][ix])\n",
    "    print(col)\n",
    "\n",
    "win_game()\n",
    "#print(col)"
   ]
  },
  {
   "cell_type": "markdown",
   "metadata": {},
   "source": [
    "### Simplistic way"
   ]
  },
  {
   "cell_type": "code",
   "execution_count": 6,
   "metadata": {},
   "outputs": [
    {
     "name": "stdout",
     "output_type": "stream",
     "text": [
      "Winner!\n"
     ]
    }
   ],
   "source": [
    "## A simpler way for diagonal win\n",
    "game=[[1,0,1],\n",
    "      [0,1,1],\n",
    "      [2,0,1]\n",
    "     ]\n",
    "diags=[]\n",
    "for ix in range(len(game)):\n",
    "    diags.append(game[ix][ix])\n",
    "if diags.count(diags[0])==len(diags) and diags[0]!=0:\n",
    "    print(\"Winner!\")\n",
    "    \n",
    "    "
   ]
  },
  {
   "cell_type": "code",
   "execution_count": 27,
   "metadata": {},
   "outputs": [
    {
     "name": "stdout",
     "output_type": "stream",
     "text": [
      "2 0\n",
      "1 1\n",
      "0 2\n",
      "[2, 1, 1]\n"
     ]
    },
    {
     "data": {
      "text/plain": [
       "range_iterator"
      ]
     },
     "execution_count": 27,
     "metadata": {},
     "output_type": "execute_result"
    }
   ],
   "source": [
    "# For the other diagonal\n",
    "game=[[1,0,1],\n",
    "      [0,1,1],\n",
    "      [2,0,1]\n",
    "     ]\n",
    "diags=[]\n",
    "cols=(reversed(range(len(game))))\n",
    "rows=range(len(game))\n",
    "\n",
    "    \n",
    "for col,row in zip(cols,rows):\n",
    "    print(col,row)\n",
    "    diags.append(game[col][row])\n",
    "print(diags)\n",
    "\n",
    "    \n",
    "type(cols)"
   ]
  },
  {
   "cell_type": "code",
   "execution_count": 24,
   "metadata": {},
   "outputs": [
    {
     "name": "stdout",
     "output_type": "stream",
     "text": [
      "0\n",
      "1\n",
      "2\n"
     ]
    }
   ],
   "source": [
    "# checking the type or range\n",
    "for i in range(3):\n",
    "    print(i)"
   ]
  },
  {
   "cell_type": "code",
   "execution_count": 4,
   "metadata": {},
   "outputs": [
    {
     "name": "stdout",
     "output_type": "stream",
     "text": [
      "range(0, 3)\n"
     ]
    },
    {
     "data": {
      "text/plain": [
       "range"
      ]
     },
     "execution_count": 4,
     "metadata": {},
     "output_type": "execute_result"
    }
   ],
   "source": [
    "# checking the type of range\n",
    "print(range(3))\n",
    "type(range(3))"
   ]
  },
  {
   "cell_type": "code",
   "execution_count": 20,
   "metadata": {},
   "outputs": [
    {
     "name": "stdout",
     "output_type": "stream",
     "text": [
      "0 1\n"
     ]
    }
   ],
   "source": [
    "# checking enumerate function\n",
    "func=[1]\n",
    "for i,j in enumerate(func):\n",
    "    print(i,j)"
   ]
  },
  {
   "cell_type": "markdown",
   "metadata": {},
   "source": [
    "## Error handling"
   ]
  },
  {
   "cell_type": "code",
   "execution_count": 12,
   "metadata": {},
   "outputs": [
    {
     "name": "stdout",
     "output_type": "stream",
     "text": [
      "   0  1  2\n",
      "Input the row/column as 0,1 or 2. list index out of range\n"
     ]
    }
   ],
   "source": [
    "##3 Seeing the ways to handle an error\n",
    "game=[[1,0,1],\n",
    "      [0,1,1],\n",
    "      [2,0,1]\n",
    "     ]\n",
    "def game_board(game_map,player=0,row=0,column=0,just_display=False):\n",
    "    try:\n",
    "        \n",
    "        print(\"   0  1  2\")\n",
    "        \n",
    "        if just_display==False:\n",
    "            game_map[row][column]=player\n",
    "        for count, row in enumerate(game_map):\n",
    "            print(count,row)\n",
    "        return game_map\n",
    "    except IndexError as e:\n",
    "        print('Input the row/column as 0,1 or 2.', e)\n",
    "#game_board(game,just_display=True)\n",
    "game_board(game,player=5,row=3,column=1)"
   ]
  },
  {
   "cell_type": "markdown",
   "metadata": {},
   "source": [
    "## Combining things together to make a simple tic tac toe game"
   ]
  },
  {
   "cell_type": "code",
   "execution_count": 18,
   "metadata": {},
   "outputs": [
    {
     "ename": "SyntaxError",
     "evalue": "invalid syntax (<ipython-input-18-af680df2bf9d>, line 5)",
     "output_type": "error",
     "traceback": [
      "\u001b[1;36m  File \u001b[1;32m\"<ipython-input-18-af680df2bf9d>\"\u001b[1;36m, line \u001b[1;32m5\u001b[0m\n\u001b[1;33m    def win_game(Current_game):\u001b[0m\n\u001b[1;37m    ^\u001b[0m\n\u001b[1;31mSyntaxError\u001b[0m\u001b[1;31m:\u001b[0m invalid syntax\n"
     ]
    }
   ],
   "source": [
    "game=[[1,0,1],\n",
    "      [0,1,1],\n",
    "      [2,0,1]\n",
    "    \n",
    "def win_game(Current_game):\n",
    "    #Horizontal win\n",
    "      for row in game:\n",
    "          print(row)\n",
    "          if row.count(row[0])==len(row) and row[0]!=0:\n",
    "              print('Winner!')\n",
    "      #Diagonal win\n",
    "      diags=[]\n",
    "      for ix in range(len(game)):\n",
    "      \n",
    "          diags.append(game[ix][ix])\n",
    "          if diags.count(diags[0])==len(diags) and diags[0]!=0:\n",
    "                print(\"Winner!\")\n",
    "      diags=[]\n",
    "      cols=(reversed(range(len(game))))\n",
    "      rows=range(len(game))\n",
    "\n",
    "    \n",
    "      for col,row in zip(cols,rows):\n",
    "          print(col,row)\n",
    "          diags.append(game[col][row])\n",
    "          print(diags)\n",
    "      \n",
    "      #Vertical win\n",
    "      for col in range(len(game)):\n",
    "          check=[]\n",
    "          for row in game:\n",
    "              check.append(row[col])\n",
    "              print(check)\n",
    "      if check.count(check[0])==len(check) and check[0]!=0:\n",
    "            print('Winner!')\n",
    "      \n",
    "      \n",
    "      "
   ]
  },
  {
   "cell_type": "code",
   "execution_count": 19,
   "metadata": {},
   "outputs": [
    {
     "name": "stdout",
     "output_type": "stream",
     "text": [
      "0\n",
      "1\n",
      "2\n"
     ]
    }
   ],
   "source": [
    "for i in range(3):\n",
    "    print(i)"
   ]
  },
  {
   "cell_type": "code",
   "execution_count": null,
   "metadata": {},
   "outputs": [],
   "source": []
  }
 ],
 "metadata": {
  "kernelspec": {
   "display_name": "Python 3",
   "language": "python",
   "name": "python3"
  },
  "language_info": {
   "codemirror_mode": {
    "name": "ipython",
    "version": 3
   },
   "file_extension": ".py",
   "mimetype": "text/x-python",
   "name": "python",
   "nbconvert_exporter": "python",
   "pygments_lexer": "ipython3",
   "version": "3.7.3"
  }
 },
 "nbformat": 4,
 "nbformat_minor": 4
}
