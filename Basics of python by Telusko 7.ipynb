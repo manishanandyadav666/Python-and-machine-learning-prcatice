{
 "cells": [
  {
   "cell_type": "markdown",
   "metadata": {},
   "source": [
    "### Types of variables"
   ]
  },
  {
   "cell_type": "markdown",
   "metadata": {},
   "source": [
    "### Class variable and instance variable"
   ]
  },
  {
   "cell_type": "code",
   "execution_count": 4,
   "metadata": {},
   "outputs": [
    {
     "name": "stdout",
     "output_type": "stream",
     "text": [
      "40 30 4\n",
      "7 30 4\n"
     ]
    }
   ],
   "source": [
    "class Car:\n",
    "    wheels=4\n",
    "    def __init__(self):\n",
    "        self.mil=40\n",
    "        self.age=30\n",
    "c1=Car()\n",
    "c2=Car()\n",
    "c2.mil=7\n",
    "print(c1.mil,c1.age,c1.wheels)\n",
    "print(c2.mil,c2.age,c2.wheels)"
   ]
  },
  {
   "cell_type": "markdown",
   "metadata": {},
   "source": [
    "### Types of methods: Instance methods, class methods, static methods"
   ]
  },
  {
   "cell_type": "code",
   "execution_count": 16,
   "metadata": {},
   "outputs": [
    {
     "name": "stdout",
     "output_type": "stream",
     "text": [
      "12.0 15.0\n",
      "mount\n",
      "this is student class\n"
     ]
    }
   ],
   "source": [
    "class student:\n",
    "    school='mount'\n",
    "    def __init__(self,m1,m2,m3):\n",
    "        self.m1=m1\n",
    "        self.m2=m2\n",
    "        self.m3=m3\n",
    "        \n",
    "    def avg(self):\n",
    "        return (self.m1+self.m2+self.m3)/3\n",
    "    @classmethod\n",
    "    def info(cls):\n",
    "        return(cls.school)\n",
    "    @staticmethod\n",
    "    def inform():\n",
    "        print('this is student class')\n",
    "    \n",
    "s1=student(11,12,13)\n",
    "s2=student(14,15,16)\n",
    "a=s1.avg()\n",
    "print(a,s2.avg())\n",
    "print(student.info())\n",
    "student.inform()"
   ]
  },
  {
   "cell_type": "markdown",
   "metadata": {},
   "source": [
    "### Inner class"
   ]
  },
  {
   "cell_type": "code",
   "execution_count": 2,
   "metadata": {},
   "outputs": [
    {
     "name": "stdout",
     "output_type": "stream",
     "text": [
      "manish 3\n",
      "lizzy 2\n"
     ]
    }
   ],
   "source": [
    "class student:\n",
    "    def __init__(self,name,roll):\n",
    "        self.name=name\n",
    "        self.roll=roll\n",
    "        self.lap=self.Laptop()\n",
    "    def show(self):\n",
    "        print(self.name,self.roll)\n",
    "    class Laptop:\n",
    "        def __init__(self):\n",
    "            self.brand='dell'\n",
    "            self.cpu='i5'\n",
    "            self.ram=4\n",
    "s1=student('manish',3)\n",
    "s2=student('lizzy',2)\n",
    "print(s1.name,s1.roll)\n",
    "s2.show()\n",
    "\n"
   ]
  },
  {
   "cell_type": "markdown",
   "metadata": {},
   "source": [
    "### Inheritance"
   ]
  },
  {
   "cell_type": "code",
   "execution_count": null,
   "metadata": {},
   "outputs": [],
   "source": [
    "class A:\n",
    "    \n",
    "    def feature1(self):\n",
    "        print('Feature 1 working')\n",
    "    def feature2(self):\n",
    "        print('Feature 2 working') \n",
    "class B(A):\n",
    "    def feature3(self):\n",
    "        print('Feature 3 working')\n",
    "    def feature4(self):\n",
    "        print('Feature 4 working')\n",
    "a1=A()\n",
    "a1.feature1()\n",
    "a1.feature2()\n",
    "b1=B()\n",
    "b1.feature3()\n",
    "b1.feature1()\n",
    "              \n",
    "              \n",
    "\n",
    "    "
   ]
  },
  {
   "cell_type": "markdown",
   "metadata": {},
   "source": [
    "### Constructor in inheritance"
   ]
  },
  {
   "cell_type": "code",
   "execution_count": 6,
   "metadata": {},
   "outputs": [
    {
     "name": "stdout",
     "output_type": "stream",
     "text": [
      "In A init\n",
      "In A init\n",
      "In B init\n"
     ]
    }
   ],
   "source": [
    "class A:\n",
    "    def __init__(self):\n",
    "        print('In A init')\n",
    "    def feature1(self):\n",
    "        print('Feature 1 working')\n",
    "    def feature2(self):\n",
    "        print('Feature 2 working') \n",
    "class B(A):\n",
    "    def __init__(self):\n",
    "        super().__init__()\n",
    "        print('In B init')\n",
    "    def feature3(self):\n",
    "        print('Feature 3 working')\n",
    "    def feature4(self):\n",
    "        print('Feature 4 working')\n",
    "        \n",
    "a=A()\n",
    "a1=B()"
   ]
  },
  {
   "cell_type": "markdown",
   "metadata": {},
   "source": [
    "### Method Resolution Order(MRO)"
   ]
  },
  {
   "cell_type": "code",
   "execution_count": 9,
   "metadata": {},
   "outputs": [
    {
     "name": "stdout",
     "output_type": "stream",
     "text": [
      "In A init\n",
      "In C init\n"
     ]
    }
   ],
   "source": [
    "class A:\n",
    "    def __init__(self):\n",
    "        print('In A init')\n",
    "    def feature1(self):\n",
    "        print('Feature 1 working')\n",
    "    def feature2(self):\n",
    "        print('Feature 2 working') \n",
    "class B:\n",
    "    def __init__(self):\n",
    "        \n",
    "        print('In B init')\n",
    "    def feature3(self):\n",
    "        print('Feature 3 working')\n",
    "    def feature4(self):\n",
    "        print('Feature 4 working')\n",
    "        \n",
    "class C(A,B):\n",
    "    def __init__(self):\n",
    "        super().__init__()\n",
    "        print('In C init')\n",
    "        \n",
    "c1=C()\n",
    "    "
   ]
  },
  {
   "cell_type": "markdown",
   "metadata": {},
   "source": [
    "### Polymorphism: Duck typing, Operator overloading, Method overloading, Method overriding"
   ]
  },
  {
   "cell_type": "markdown",
   "metadata": {},
   "source": [
    "#### Duck typing"
   ]
  },
  {
   "cell_type": "code",
   "execution_count": null,
   "metadata": {},
   "outputs": [],
   "source": []
  }
 ],
 "metadata": {
  "kernelspec": {
   "display_name": "Python 3",
   "language": "python",
   "name": "python3"
  },
  "language_info": {
   "codemirror_mode": {
    "name": "ipython",
    "version": 3
   },
   "file_extension": ".py",
   "mimetype": "text/x-python",
   "name": "python",
   "nbconvert_exporter": "python",
   "pygments_lexer": "ipython3",
   "version": "3.7.3"
  }
 },
 "nbformat": 4,
 "nbformat_minor": 2
}
